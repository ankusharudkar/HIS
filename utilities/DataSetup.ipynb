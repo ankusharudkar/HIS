{
 "cells": [
  {
   "cell_type": "markdown",
   "metadata": {},
   "source": [
    "# Data Setup\n",
    "\n",
    "Downloads and sets up the raw training data for models"
   ]
  },
  {
   "cell_type": "markdown",
   "metadata": {},
   "source": [
    "### PASCAL data setup"
   ]
  },
  {
   "cell_type": "code",
   "execution_count": 1,
   "metadata": {},
   "outputs": [],
   "source": [
    "import requests\n",
    "import tarfile\n",
    "import os\n",
    "from pathlib import Path"
   ]
  },
  {
   "cell_type": "code",
   "execution_count": 4,
   "metadata": {},
   "outputs": [],
   "source": [
    "# directory setup\n",
    "DATA_PATH = Path(\"..\") / \"data\"\n",
    "PASCAL_PARTS_PATH = DATA_PATH / \"PASCAL_PARTS\"\n",
    "os.makedirs(PASCAL_PARTS_PATH, exist_ok=\"true\")"
   ]
  },
  {
   "cell_type": "code",
   "execution_count": 5,
   "metadata": {},
   "outputs": [
    {
     "name": "stdout",
     "output_type": "stream",
     "text": [
      "PASCAL-Parts downloaded\n"
     ]
    }
   ],
   "source": [
    "# PASCAL_PARTS dataset url\n",
    "PASCAL_PARTS_URL = \"https://roozbehm.info/pascal-parts/trainval.tar.gz\"\n",
    "\n",
    "# download and extract\n",
    "response = requests.get(PASCAL_PARTS_URL, stream=True)\n",
    "file = tarfile.open(fileobj=response.raw, mode=\"r|gz\")\n",
    "file.extractall(path=PASCAL_PARTS_PATH)\n",
    "print(\"PASCAL-Parts downloaded\")"
   ]
  },
  {
   "cell_type": "code",
   "execution_count": 10,
   "metadata": {},
   "outputs": [
    {
     "name": "stdout",
     "output_type": "stream",
     "text": [
      "PASCAL-Images downloaded\n"
     ]
    }
   ],
   "source": [
    "# PASCAL images path\n",
    "PASCAL_IMAGES_PATH = DATA_PATH / \"PASCAL_IMAGES\"\n",
    "os.makedirs(PASCAL_IMAGES_PATH, exist_ok=\"true\")\n",
    "\n",
    "# PASCAL Images url\n",
    "PASCAL_IMAGES = \"http://host.robots.ox.ac.uk/pascal/VOC/voc2010/VOCtrainval_03-May-2010.tar\"\n",
    "\n",
    "# download images\n",
    "response = requests.get(PASCAL_IMAGES, stream=True)\n",
    "file = tarfile.open(fileobj=response.raw, mode=\"r|*\")\n",
    "file.extractall(path=PASCAL_IMAGES_PATH)\n",
    "print(\"PASCAL-Images downloaded\")"
   ]
  },
  {
   "cell_type": "markdown",
   "metadata": {},
   "source": [
    "# Contrived Dataset\n",
    "\n",
    "## Preprocessing"
   ]
  },
  {
   "cell_type": "code",
   "execution_count": 1,
   "metadata": {},
   "outputs": [],
   "source": [
    "import DataReader\n",
    "import os\n",
    "from pathlib import Path\n",
    "import json\n",
    "import pickle"
   ]
  },
  {
   "cell_type": "code",
   "execution_count": 2,
   "metadata": {},
   "outputs": [],
   "source": [
    "root_dir = Path(\"..\") / \"data\" / \"dataset_3\"\n",
    "\n",
    "for json_ann in os.listdir(root_dir / \"annotations\"):\n",
    "    with open(root_dir / \"annotations\" / json_ann) as input_f:\n",
    "        ann = DataReader.dictToAnnotation(json.load(input_f))\n",
    "        \n",
    "    with open(root_dir / \"treeAnnotations\" / (json_ann.split(\".\")[0]+\".pkl\"), \"wb\") as out_f:\n",
    "        pickle.dump(ann, out_f)"
   ]
  },
  {
   "cell_type": "code",
   "execution_count": 3,
   "metadata": {},
   "outputs": [
    {
     "name": "stdout",
     "output_type": "stream",
     "text": [
      "('0', array([[ True,  True,  True, ...,  True,  True,  True],\n",
      "       [ True,  True,  True, ...,  True,  True,  True],\n",
      "       [ True,  True,  True, ...,  True,  True,  True],\n",
      "       ...,\n",
      "       [ True,  True,  True, ...,  True,  True,  True],\n",
      "       [ True,  True,  True, ...,  True,  True,  True],\n",
      "       [ True,  True,  True, ...,  True,  True,  True]]), [('0,0', array([[False, False, False, ..., False, False, False],\n",
      "       [False, False, False, ..., False, False, False],\n",
      "       [False, False, False, ..., False, False, False],\n",
      "       ...,\n",
      "       [False, False, False, ..., False, False, False],\n",
      "       [False, False, False, ..., False, False, False],\n",
      "       [False, False, False, ..., False, False, False]]), [('0,0,0', array([[False, False, False, ..., False, False, False],\n",
      "       [False, False, False, ..., False, False, False],\n",
      "       [False, False, False, ..., False, False, False],\n",
      "       ...,\n",
      "       [False, False, False, ..., False, False, False],\n",
      "       [False, False, False, ..., False, False, False],\n",
      "       [False, False, False, ..., False, False, False]]), [('0,0,0,0', array([[False, False, False, ..., False, False, False],\n",
      "       [False, False, False, ..., False, False, False],\n",
      "       [False, False, False, ..., False, False, False],\n",
      "       ...,\n",
      "       [False, False, False, ..., False, False, False],\n",
      "       [False, False, False, ..., False, False, False],\n",
      "       [False, False, False, ..., False, False, False]]), [])]), ('0,0,1', array([[False, False, False, ..., False, False, False],\n",
      "       [False, False, False, ..., False, False, False],\n",
      "       [False, False, False, ..., False, False, False],\n",
      "       ...,\n",
      "       [False, False, False, ..., False, False, False],\n",
      "       [False, False, False, ..., False, False, False],\n",
      "       [False, False, False, ..., False, False, False]]), [('0,0,1,0', array([[False, False, False, ..., False, False, False],\n",
      "       [False, False, False, ..., False, False, False],\n",
      "       [False, False, False, ..., False, False, False],\n",
      "       ...,\n",
      "       [False, False, False, ..., False, False, False],\n",
      "       [False, False, False, ..., False, False, False],\n",
      "       [False, False, False, ..., False, False, False]]), [])])])])\n"
     ]
    }
   ],
   "source": [
    "# reading annotation\n",
    "with open(root_dir / \"treeAnnotations\" / \"1.pkl\", \"rb\") as f:\n",
    "    print(pickle.load(f))"
   ]
  }
 ],
 "metadata": {
  "kernelspec": {
   "display_name": "his",
   "language": "python",
   "name": "python3"
  },
  "language_info": {
   "codemirror_mode": {
    "name": "ipython",
    "version": 3
   },
   "file_extension": ".py",
   "mimetype": "text/x-python",
   "name": "python",
   "nbconvert_exporter": "python",
   "pygments_lexer": "ipython3",
   "version": "3.9.18"
  }
 },
 "nbformat": 4,
 "nbformat_minor": 2
}
