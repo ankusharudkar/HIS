{
 "cells": [
  {
   "cell_type": "markdown",
   "metadata": {},
   "source": [
    "# Reading annotations"
   ]
  },
  {
   "cell_type": "code",
   "execution_count": 1,
   "metadata": {
    "tags": [
     "export"
    ]
   },
   "outputs": [],
   "source": [
    "# laoding the mat annotation in python\n",
    "import scipy.io\n",
    "from functools import reduce, partial\n",
    "import numpy as np"
   ]
  },
  {
   "cell_type": "code",
   "execution_count": 11,
   "metadata": {},
   "outputs": [
    {
     "data": {
      "text/plain": [
       "dict_keys(['__header__', '__version__', '__globals__', 'anno'])"
      ]
     },
     "execution_count": 11,
     "metadata": {},
     "output_type": "execute_result"
    }
   ],
   "source": [
    "mat = scipy.io.loadmat(\"../data/PASCAL_PARTS/Annotations_Part/2008_000007.mat\")\n",
    "mat.keys()"
   ]
  },
  {
   "cell_type": "markdown",
   "metadata": {},
   "source": [
    "Understanding the annotations"
   ]
  },
  {
   "cell_type": "code",
   "execution_count": 12,
   "metadata": {},
   "outputs": [],
   "source": [
    "# getting image name\n",
    "image_name = mat[\"anno\"][0][0][0][0]"
   ]
  },
  {
   "cell_type": "code",
   "execution_count": 2,
   "metadata": {},
   "outputs": [],
   "source": [
    "import matplotlib.pyplot as plt"
   ]
  },
  {
   "cell_type": "code",
   "execution_count": 24,
   "metadata": {
    "tags": [
     "export"
    ]
   },
   "outputs": [],
   "source": [
    "from collections import namedtuple\n",
    "\n",
    "# type for annotation\n",
    "# Annotation = namedtuple(\"Annotation\", [\"name\", \"mask\", \"children\"])\n",
    "Annotation = lambda name, mask, children: (name, mask, children)"
   ]
  },
  {
   "cell_type": "code",
   "execution_count": 8,
   "metadata": {},
   "outputs": [
    {
     "data": {
      "text/plain": [
       "array([[ True, False, False],\n",
       "       [False,  True, False],\n",
       "       [False, False,  True]])"
      ]
     },
     "execution_count": 8,
     "metadata": {},
     "output_type": "execute_result"
    }
   ],
   "source": [
    "np.identity(3, dtype=int) == 1"
   ]
  },
  {
   "cell_type": "code",
   "execution_count": 25,
   "metadata": {
    "tags": [
     "export"
    ]
   },
   "outputs": [],
   "source": [
    "def getAnnotationTree(mat) -> list:\n",
    "    \"\"\"Generate annotation tree from PASCAL mat file\n",
    "\n",
    "    Args:\n",
    "        mat (dict): loaded mat file dict of pascal parts\n",
    "\n",
    "    Returns:\n",
    "        list: [(name:str, mask:numpy.array), None|List]\n",
    "    \"\"\"\n",
    "    \n",
    "    ann = []\n",
    "    root = None\n",
    "    \n",
    "    # annotation\n",
    "    for elem in mat[\"anno\"][0][0][1]:    \n",
    "        # objects\n",
    "        for nelem in elem:\n",
    "            nest = []\n",
    "            # nested parts\n",
    "            for part in nelem[3]:\n",
    "                part = part[0]\n",
    "                nest.append(Annotation(part[0][0], part[1] == 1, []))\n",
    "            \n",
    "            if root is None:\n",
    "                root = np.ones_like(nelem[2] == 1)\n",
    "                # root[root>=1] = 1\n",
    "            # else:\n",
    "                # root = np.copy(nelem[2])\n",
    "                \n",
    "            ann.append(Annotation(nelem[0][0], nelem[2] == 1, nest))\n",
    "    \n",
    "    return Annotation(\"root\", root, ann)"
   ]
  },
  {
   "cell_type": "code",
   "execution_count": 26,
   "metadata": {},
   "outputs": [],
   "source": [
    "tree = getAnnotationTree(mat)"
   ]
  },
  {
   "cell_type": "code",
   "execution_count": 29,
   "metadata": {
    "tags": [
     "export"
    ]
   },
   "outputs": [],
   "source": [
    "def printTree(tree, tab=0):\n",
    "    print(\"\\t\"*tab, tree[0])\n",
    "    for t in tree[2]:\n",
    "        printTree(t, tab+1)"
   ]
  },
  {
   "cell_type": "code",
   "execution_count": 30,
   "metadata": {},
   "outputs": [
    {
     "name": "stdout",
     "output_type": "stream",
     "text": [
      " root\n",
      "\t boat\n"
     ]
    }
   ],
   "source": [
    "printTree(tree)"
   ]
  },
  {
   "cell_type": "code",
   "execution_count": 31,
   "metadata": {},
   "outputs": [
    {
     "data": {
      "text/plain": [
       "('root',\n",
       " array([[ True,  True,  True, ...,  True,  True,  True],\n",
       "        [ True,  True,  True, ...,  True,  True,  True],\n",
       "        [ True,  True,  True, ...,  True,  True,  True],\n",
       "        ...,\n",
       "        [ True,  True,  True, ...,  True,  True,  True],\n",
       "        [ True,  True,  True, ...,  True,  True,  True],\n",
       "        [ True,  True,  True, ...,  True,  True,  True]]),\n",
       " [('boat',\n",
       "   array([[False, False, False, ..., False, False, False],\n",
       "          [False, False, False, ..., False, False, False],\n",
       "          [False, False, False, ..., False, False, False],\n",
       "          ...,\n",
       "          [False, False, False, ..., False, False, False],\n",
       "          [False, False, False, ..., False, False, False],\n",
       "          [False, False, False, ..., False, False, False]]),\n",
       "   [])])"
      ]
     },
     "execution_count": 31,
     "metadata": {},
     "output_type": "execute_result"
    }
   ],
   "source": [
    "tree"
   ]
  },
  {
   "cell_type": "code",
   "execution_count": 32,
   "metadata": {},
   "outputs": [
    {
     "data": {
      "text/plain": [
       "<matplotlib.image.AxesImage at 0x27dc40b6cd0>"
      ]
     },
     "execution_count": 32,
     "metadata": {},
     "output_type": "execute_result"
    },
    {
     "data": {
      "image/png": "[encoded data removed]",
      "text/plain": [
       "<Figure size 640x480 with 1 Axes>"
      ]
     },
     "metadata": {},
     "output_type": "display_data"
    }
   ],
   "source": [
    "# 0: name\n",
    "# 1: class index\n",
    "# 2: mask\n",
    "# 3: child object(s?)\n",
    "\n",
    "plt.imshow(tree[1])"
   ]
  },
  {
   "cell_type": "code",
   "execution_count": 74,
   "metadata": {},
   "outputs": [
    {
     "data": {
      "text/plain": [
       "<matplotlib.image.AxesImage at 0x16ac6de0820>"
      ]
     },
     "execution_count": 74,
     "metadata": {},
     "output_type": "execute_result"
    },
    {
     "data": {
      "image/png": "[encoded data removed]",
      "text/plain": [
       "<Figure size 640x480 with 1 Axes>"
      ]
     },
     "metadata": {},
     "output_type": "display_data"
    }
   ],
   "source": [
    "obj = mat[\"anno\"][0][0][1][0][0][3]\n",
    "\n",
    "plt.imshow(mat[\"anno\"][0][0][1][0][0][2] + obj[0][0][1])"
   ]
  },
  {
   "cell_type": "markdown",
   "metadata": {},
   "source": [
    "## Hierarchy definitions"
   ]
  },
  {
   "cell_type": "markdown",
   "metadata": {},
   "source": [
    "use IOU threshold to decide the masks that are shown\n",
    "\n",
    "**Create a function that takes attention mask and annotations as input and creates the largest object fragments within attention area**"
   ]
  },
  {
   "cell_type": "code",
   "execution_count": 48,
   "metadata": {},
   "outputs": [
    {
     "data": {
      "text/plain": [
       "array([1, 0, 1, 1])"
      ]
     },
     "execution_count": 48,
     "metadata": {},
     "output_type": "execute_result"
    }
   ],
   "source": [
    "np.array([1,0,0,1]) | np.array([0,0,1,1])"
   ]
  },
  {
   "cell_type": "code",
   "execution_count": 33,
   "metadata": {
    "tags": [
     "export"
    ]
   },
   "outputs": [],
   "source": [
    "def generateAnnotationMask(annotation: tuple, attentionMask: np.ndarray, threshold: float=0.1) -> np.ndarray:\n",
    "    \n",
    "    attentionMaskSum = np.sum(attentionMask)\n",
    "    annotationMask = np.zeros_like(attentionMask)\n",
    "    \n",
    "    def _inorder(ann):\n",
    "        mask = attentionMask & ann[1]\n",
    "        intersection = np.sum(mask)\n",
    "        if (attentionMaskSum-intersection)/attentionMaskSum > threshold:\n",
    "            nonlocal annotationMask\n",
    "            annotationMask = annotationMask | mask\n",
    "            return\n",
    "        \n",
    "        for child in ann[2]:\n",
    "            _inorder(child)\n",
    "            \n",
    "    _inorder(annotation)\n",
    "    \n",
    "    return annotationMask"
   ]
  },
  {
   "cell_type": "code",
   "execution_count": 34,
   "metadata": {},
   "outputs": [
    {
     "name": "stdout",
     "output_type": "stream",
     "text": [
      " root\n",
      "\t boat\n"
     ]
    }
   ],
   "source": [
    "printTree(tree)"
   ]
  },
  {
   "cell_type": "code",
   "execution_count": 36,
   "metadata": {},
   "outputs": [
    {
     "data": {
      "text/plain": [
       "<matplotlib.image.AxesImage at 0x27dc55fb310>"
      ]
     },
     "execution_count": 36,
     "metadata": {},
     "output_type": "execute_result"
    },
    {
     "data": {
      "image/png": "[encoded data removed]",
      "text/plain": [
       "<Figure size 640x480 with 1 Axes>"
      ]
     },
     "metadata": {},
     "output_type": "display_data"
    }
   ],
   "source": [
    "plt.imshow(tree[2][0][1])"
   ]
  },
  {
   "cell_type": "code",
   "execution_count": 38,
   "metadata": {},
   "outputs": [
    {
     "data": {
      "text/plain": [
       "<matplotlib.image.AxesImage at 0x27dc57a5fa0>"
      ]
     },
     "execution_count": 38,
     "metadata": {},
     "output_type": "execute_result"
    },
    {
     "data": {
      "image/png": "[encoded data removed]",
      "text/plain": [
       "<Figure size 640x480 with 1 Axes>"
      ]
     },
     "metadata": {},
     "output_type": "display_data"
    }
   ],
   "source": [
    "mask = np.zeros_like(tree[1])\n",
    "mask[0:400, 0: 300] = 1\n",
    "plt.imshow(generateAnnotationMask(tree, mask))"
   ]
  },
  {
   "cell_type": "markdown",
   "metadata": {},
   "source": [
    "# Read JSON representation"
   ]
  },
  {
   "cell_type": "code",
   "execution_count": 20,
   "metadata": {
    "tags": [
     "export"
    ]
   },
   "outputs": [],
   "source": [
    "import cv2\n",
    "\n",
    "def dictToAnnotation(data: dict):\n",
    "    size = (data[\"height\"], data[\"width\"])\n",
    "    image = data[\"Image\"]\n",
    "    \n",
    "    def _genAnnotations(image):\n",
    "        mask = np.zeros(size)\n",
    "        # getting the polygon points\n",
    "        vertices = []\n",
    "        for i in range(0, len(image[\"mask\"]), 2):\n",
    "            vertices.append([\n",
    "                round(image[\"mask\"][i] * (size[1]-1)),\n",
    "                round(image[\"mask\"][i+1] * (size[0]-1))\n",
    "            ])\n",
    "        \n",
    "        vertices = np.array([vertices], dtype=np.int32)\n",
    "\n",
    "        cv2.fillPoly(mask, vertices, color=1)\n",
    "        \n",
    "        children = []\n",
    "        for child in image[\"children\"]:\n",
    "            children.append(_genAnnotations(child))\n",
    "            \n",
    "        return Annotation(image[\"name\"], mask == 1, children)\n",
    "    \n",
    "    return _genAnnotations(image)"
   ]
  },
  {
   "cell_type": "code",
   "execution_count": 21,
   "metadata": {},
   "outputs": [],
   "source": [
    "import json\n",
    "\n",
    "with open(\"./_test.json\") as j:\n",
    "    data = json.load(j)\n",
    "    test = dictToAnnotation(data)\n"
   ]
  },
  {
   "cell_type": "code",
   "execution_count": 22,
   "metadata": {},
   "outputs": [
    {
     "data": {
      "text/plain": [
       "<matplotlib.image.AxesImage at 0x27dc26d2dc0>"
      ]
     },
     "execution_count": 22,
     "metadata": {},
     "output_type": "execute_result"
    },
    {
     "data": {
      "image/png": "[encoded data removed]",
      "text/plain": [
       "<Figure size 640x480 with 1 Axes>"
      ]
     },
     "metadata": {},
     "output_type": "display_data"
    }
   ],
   "source": [
    "plt.imshow(test.children[1].children[0].children[0].mask)"
   ]
  },
  {
   "cell_type": "markdown",
   "metadata": {},
   "source": [
    "# Reader for RNN flat annotations\n",
    "\n",
    "Level 1 -> Level 2 -> Level 3 -> ..."
   ]
  },
  {
   "cell_type": "code",
   "execution_count": 42,
   "metadata": {},
   "outputs": [],
   "source": [
    "import json\n",
    "import numpy as np \n",
    "import matplotlib.pyplot as plt\n",
    "\n",
    "with open(\"./_test.json\") as j:\n",
    "    data = json.load(j)"
   ]
  },
  {
   "cell_type": "code",
   "execution_count": 39,
   "metadata": {
    "tags": [
     "export"
    ]
   },
   "outputs": [],
   "source": [
    "import cv2\n",
    "\n",
    "def dictToRNNAnnotation(data: dict):\n",
    "    size = (data[\"height\"], data[\"width\"])\n",
    "    image = data[\"Image\"]\n",
    "    \n",
    "    queue = [(1, c)for c in [*image[\"children\"]]]\n",
    "    masks = []\n",
    "    while queue:\n",
    "        child = queue.pop(0)\n",
    "        \n",
    "        # process\n",
    "        if len(masks) < child[0]:\n",
    "            masks.append(np.zeros(size))\n",
    "            \n",
    "        vertices = []\n",
    "        for i in range(0, len(child[1][\"mask\"]), 2):\n",
    "            vertices.append([\n",
    "                round(child[1][\"mask\"][i] * (size[1]-1)),\n",
    "                round(child[1][\"mask\"][i+1] * (size[0]-1))\n",
    "            ])\n",
    "        \n",
    "        vertices = np.array([vertices], dtype=np.int32)\n",
    "\n",
    "        cv2.fillPoly(masks[-1], vertices, color=1)\n",
    "        # end process\n",
    "          \n",
    "        # add children\n",
    "        for c in child[1]['children']:\n",
    "            queue.append((child[0]+1, c))\n",
    "    \n",
    "    return masks"
   ]
  },
  {
   "cell_type": "code",
   "execution_count": 40,
   "metadata": {},
   "outputs": [],
   "source": [
    "masks = dictToRNNAnnotation(data)"
   ]
  },
  {
   "cell_type": "code",
   "execution_count": 43,
   "metadata": {},
   "outputs": [
    {
     "data": {
      "image/png": "[encoded data removed]",
      "text/plain": [
       "<Figure size 640x480 with 3 Axes>"
      ]
     },
     "metadata": {},
     "output_type": "display_data"
    }
   ],
   "source": [
    "for i, m in enumerate(masks):\n",
    "    plt.subplot(1, len(masks), i+1)\n",
    "    plt.imshow(m)"
   ]
  },
  {
   "cell_type": "code",
   "execution_count": null,
   "metadata": {},
   "outputs": [],
   "source": []
  }
 ],
 "metadata": {
  "kernelspec": {
   "display_name": "his",
   "language": "python",
   "name": "python3"
  },
  "language_info": {
   "codemirror_mode": {
    "name": "ipython",
    "version": 3
   },
   "file_extension": ".py",
   "mimetype": "text/x-python",
   "name": "python",
   "nbconvert_exporter": "python",
   "pygments_lexer": "ipython3",
   "version": "3.9.18"
  }
 },
 "nbformat": 4,
 "nbformat_minor": 2
}
