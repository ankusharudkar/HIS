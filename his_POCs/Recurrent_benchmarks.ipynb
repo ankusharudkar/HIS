{
 "cells": [
  {
   "cell_type": "code",
   "execution_count": null,
   "metadata": {},
   "outputs": [],
   "source": [
    "from rcnn_utils import *\n",
    "from torch.nn import init\n",
    "from torchvision.transforms import v2"
   ]
  },
  {
   "cell_type": "markdown",
   "metadata": {},
   "source": [
    "## Datasets\n",
    "\n",
    "|Dataset|Type|Model|DICE train|DICE val|Params|\n",
    "|-|-|-|-|-|-|\n",
    "|RP500|Plain, Rectangle|RCNN-cell|.358 |.437|898|\n",
    "|||LSTM-cell|.541|.546|2096|\n",
    "|||RNN-cell (deeper)|.68|.70||\n",
    "|||RNN-cell (SegNetDrop)|.46|.41||\n",
    "|RP1000|Plain, Rectangle||\n",
    "|RT500|Texture, Rectangle||\n",
    "|RT1000|Texture, Rectangle||\n",
    "|PP500|Plain, Polgon|RCNN-cell|.53|.53|898|\n",
    "|||LSTM-cell|.53|.53|2096|\n",
    "|PP1000|Plain, Polygon||\n",
    "|PT500|Texture, Polygon||\n",
    "|PT1000|Texture, Polygon||"
   ]
  },
  {
   "cell_type": "code",
   "execution_count": 9,
   "metadata": {},
   "outputs": [],
   "source": [
    "def load_and_split(loader: Dataset, split: list, seed: torch.Generator) -> Data:\n",
    "    return Data(*random_split(\n",
    "        loader,\n",
    "        split,\n",
    "        seed\n",
    "    )[:3])"
   ]
  },
  {
   "cell_type": "code",
   "execution_count": 10,
   "metadata": {},
   "outputs": [],
   "source": [
    "# datasets \n",
    "dRP500 = load_and_split(\n",
    "    BaseRcnnDataset(\"../data/DRect_plain_1000/data/\", \"../data/DRect_plain_1000/RCNNAnnotations/\"),\n",
    "    [400, 50, 50, 500],\n",
    "    torch.Generator().manual_seed(10)\n",
    "    )\n",
    "\n",
    "dRP1000 = load_and_split(\n",
    "    BaseRcnnDataset(\"../data/DRect_plain_1000/data/\", \"../data/DRect_plain_1000/RCNNAnnotations/\"),\n",
    "    [800, 100, 100],\n",
    "    torch.Generator().manual_seed(10)\n",
    "    )\n",
    "\n",
    "dRT500 = load_and_split(\n",
    "    BaseRcnnDataset(\"../data/DRect_texture_1000/data/\", \"../data/DRect_texture_1000/RCNNAnnotations/\"),\n",
    "    [400, 50, 50, 500],\n",
    "    torch.Generator().manual_seed(10)\n",
    "    )\n",
    "\n",
    "dRT1000 = load_and_split(\n",
    "    BaseRcnnDataset(\"../data/DRect_texture_1000/data/\", \"../data/DRect_texture_1000/RCNNAnnotations/\"),\n",
    "    [800, 100, 100],\n",
    "    torch.Generator().manual_seed(10)\n",
    "    )\n",
    "\n",
    "dPP500 = load_and_split(\n",
    "    BaseRcnnDataset(\"../data/DPoly_plain_1000/data/\", \"../data/DPoly_plain_1000/RCNNAnnotations/\"),\n",
    "    [400, 50, 50, 500],\n",
    "    torch.Generator().manual_seed(10)\n",
    "    )\n",
    "\n",
    "dPP1000 = load_and_split(\n",
    "    BaseRcnnDataset(\"../data/DPoly_plain_1000/data/\", \"../data/DPoly_plain_1000/RCNNAnnotations/\"),\n",
    "    [800, 100, 100],\n",
    "    torch.Generator().manual_seed(10)\n",
    "    )\n",
    "\n",
    "dPT500 = load_and_split(\n",
    "    BaseRcnnDataset(\"../data/DPoly_texture_1000/data/\", \"../data/DPoly_texture_1000/RCNNAnnotations/\"),\n",
    "    [400, 50, 50, 500],\n",
    "    torch.Generator().manual_seed(10)\n",
    "    )\n",
    "\n",
    "dPT1000 = load_and_split(\n",
    "    BaseRcnnDataset(\"../data/DPoly_texture_1000/data/\", \"../data/DPoly_texture_1000/RCNNAnnotations/\"),\n",
    "    [800, 100, 100],\n",
    "    torch.Generator().manual_seed(10)\n",
    "    )"
   ]
  },
  {
   "cell_type": "markdown",
   "metadata": {},
   "source": [
    "## Models\n",
    "\n",
    "1. RCNN cell\n",
    "2. RCNN cell group\n",
    "3. LSTM-CNN cell\n",
    "4. LSTM-CNN cell group\n",
    "5. ?GRU-CNN cell group (with pooling and unpooling and skip layers)"
   ]
  },
  {
   "cell_type": "code",
   "execution_count": 11,
   "metadata": {},
   "outputs": [],
   "source": [
    "class Model(nn.Module):\n",
    "    def __init__(self):\n",
    "        super().__init__()\n",
    "        \n",
    "    def grad_norm(self):\n",
    "        total_norm = 0.0\n",
    "        for param in self.parameters():\n",
    "            if param.grad is not None:\n",
    "                param_norm = param.grad.data.norm(2)\n",
    "                total_norm += param_norm.item() ** 2\n",
    "\n",
    "        return total_norm"
   ]
  },
  {
   "cell_type": "markdown",
   "metadata": {},
   "source": [
    "### RCNN cell"
   ]
  },
  {
   "cell_type": "code",
   "execution_count": 12,
   "metadata": {},
   "outputs": [],
   "source": [
    "class UnitProcess(nn.Module):\n",
    "    def __init__(self, in_channels, out_channels):\n",
    "        super().__init__()\n",
    "        \n",
    "        self.process = nn.Sequential(\n",
    "          nn.Conv2d(in_channels, in_channels, 5, 1, 2),\n",
    "          nn.BatchNorm2d(in_channels),\n",
    "          nn.ReLU(),\n",
    "          nn.Conv2d(in_channels, out_channels, 3, 1, 1),\n",
    "        )\n",
    "        \n",
    "        init.orthogonal_(self.process[0].weight)\n",
    "        init.orthogonal_(self.process[-1].weight)\n",
    "        \n",
    "    def forward(self, x):\n",
    "        return self.process(x)\n",
    "    \n",
    "class UnitProcess2(nn.Module):\n",
    "    def __init__(self, in_channels, out_channels):\n",
    "        super().__init__()\n",
    "        \n",
    "        self.process = nn.Sequential(\n",
    "          nn.Conv2d(in_channels, in_channels, 5, 1, 2),\n",
    "          nn.BatchNorm2d(in_channels),\n",
    "          nn.ReLU(),\n",
    "          nn.Conv2d(in_channels, in_channels*2, 5, 1, 2),\n",
    "          nn.BatchNorm2d(in_channels*2),\n",
    "          nn.ReLU(),\n",
    "          nn.Conv2d(in_channels*2, in_channels*4, 5, 1, 2),\n",
    "          nn.BatchNorm2d(in_channels*4),\n",
    "          nn.ReLU(),\n",
    "          nn.Conv2d(in_channels*4, in_channels*2, 5, 1, 2),\n",
    "          nn.BatchNorm2d(in_channels*2),\n",
    "          nn.ReLU(),\n",
    "          nn.Conv2d(in_channels*2, in_channels, 5, 1, 2),\n",
    "          nn.BatchNorm2d(in_channels),\n",
    "          nn.ReLU(),\n",
    "          nn.Conv2d(in_channels, out_channels, 3, 1, 1),\n",
    "        )\n",
    "        \n",
    "    def forward(self, x):\n",
    "        return self.process(x)\n",
    "    \n",
    "\n",
    "class RCNNCell(Model):\n",
    "    def __init__(self, in_channels, height, width, UnitProcess=UnitProcess, out_channels=1):\n",
    "        super().__init__()\n",
    "\n",
    "        self.in_channels = in_channels\n",
    "        self.height = height\n",
    "        self.width = width\n",
    "        self.out_channels = out_channels\n",
    "\n",
    "        # hidden state\n",
    "        # self.hidden = torch.randn(in_channels, height, width)\n",
    "        self.register_buffer('hidden', torch.ones(1, in_channels, height, width))\n",
    "        self.hidden = self.hidden.to(\"cuda\")\n",
    "        \n",
    "        # output generation\n",
    "        self.Wya = UnitProcess(in_channels, out_channels).to(\"cuda\")\n",
    "        \n",
    "        # hidden state processing  \n",
    "        self.Waa = UnitProcess(in_channels, in_channels).to(\"cuda\")\n",
    "        self.Wax = UnitProcess(in_channels, in_channels).to(\"cuda\")\n",
    "                \n",
    "    def forward(self, x):\n",
    "        # calculate state\n",
    "        hidden_batched = self.hidden.expand(x.shape[0], -1, -1, -1)  \n",
    "        # hidden_batched = self.hidden\n",
    "        \n",
    "        self.hidden = nn.functional.relu(self.Waa(hidden_batched) + self.Wax(x))\n",
    "       \n",
    "        # calculate output\n",
    "        x = nn.functional.relu(self.Wya(self.hidden))\n",
    "        \n",
    "        return x\n",
    "    \n",
    "    def resetState(self):\n",
    "        self.hidden = torch.ones(1, self.in_channels, self.height, self.width).to(\"cuda\")"
   ]
  },
  {
   "cell_type": "markdown",
   "metadata": {},
   "source": [
    "### RCNN"
   ]
  },
  {
   "cell_type": "code",
   "execution_count": 13,
   "metadata": {},
   "outputs": [],
   "source": [
    "class RCNN(Model):\n",
    "    def __init__(self, rcnn_cell, n_cells, in_channels, height, width, out_channels=1):\n",
    "        super().__init__()\n",
    "        \n",
    "        self.n_cells = n_cells\n",
    "        self.in_channels = in_channels\n",
    "        self.height = height\n",
    "        self.width = width\n",
    "        self.out_channels = 1\n",
    "        \n",
    "        self.rcnn_cells = nn.ModuleList()\n",
    "        for i in range(n_cells):\n",
    "            if i == 0:\n",
    "                c = in_channels\n",
    "            else:\n",
    "                c = out_channels\n",
    "            self.rcnn_cells.append(rcnn_cell(c, height, width, out_channels))\n",
    "\n",
    "\n",
    "    def forward(self, x):\n",
    "        \"\"\"\n",
    "        x: list of tokens (c, h, w)\n",
    "        \"\"\"\n",
    "        # reset all cell states for new input\n",
    "        for cell in self.rcnn_cells:\n",
    "            cell.resetState()\n",
    "        \n",
    "        # keep feed layer output to next layer\n",
    "        layer_input = x\n",
    "        layer_output = []\n",
    "        for i, cell in enumerate(self.rcnn_cells):\n",
    "            # generating output for nth cell\n",
    "            for input_t in layer_input:\n",
    "                layer_output.append(cell(input_t))\n",
    "                \n",
    "            # output becomes input\n",
    "            layer_input = layer_output\n",
    "            if i+1 < len(self.rcnn_cells):\n",
    "                layer_output = []\n",
    "                \n",
    "        return layer_output\n",
    "    \n",
    "    def resetState(self):\n",
    "        return"
   ]
  },
  {
   "cell_type": "markdown",
   "metadata": {},
   "source": [
    "### LSTM-CNN"
   ]
  },
  {
   "cell_type": "code",
   "execution_count": 14,
   "metadata": {},
   "outputs": [],
   "source": [
    "class RLSTMCell(Model):\n",
    "    def __init__(self, in_channels, height, width, out_channels=1, cell_unit = UnitProcess):\n",
    "        super().__init__()\n",
    "\n",
    "        self.in_channels = in_channels\n",
    "        self.height = height\n",
    "        self.width = width\n",
    "        self.out_channels = out_channels\n",
    "\n",
    "        # hidden and cell states\n",
    "        # self.hidden = torch.randn(in_channels, height, width)\n",
    "        self.register_buffer('hidden_state', torch.ones(1, in_channels, height, width))\n",
    "        self.register_buffer('cell_state', torch.ones(1, in_channels, height, width))\n",
    "        self.hidden_state = self.hidden_state.to(\"cuda\")\n",
    "        self.cell_state = self.cell_state.to(\"cuda\")\n",
    "        \n",
    "        # forget gate\n",
    "        self.Wf = cell_unit(in_channels, out_channels)\n",
    "        self.Uf = cell_unit(in_channels, out_channels)\n",
    "        \n",
    "        # input gate\n",
    "        self.Wi = cell_unit(in_channels, out_channels)\n",
    "        self.Ui = cell_unit(in_channels, out_channels)\n",
    "        \n",
    "        # output gate\n",
    "        self.Wo = cell_unit(in_channels, out_channels)\n",
    "        self.Uo = cell_unit(in_channels, out_channels)\n",
    "        \n",
    "        # cell state\n",
    "        self.Wc = cell_unit(in_channels, out_channels)\n",
    "        self.Uc = cell_unit(in_channels, out_channels)\n",
    "        \n",
    "        # activations\n",
    "        self.sig1 = nn.Tanh()\n",
    "        self.sig2 = nn.Tanh()\n",
    "        self.sig3 = nn.Tanh()\n",
    "        self.relu1 = nn.ReLU()\n",
    "        self.relu2 = nn.ReLU()\n",
    "               \n",
    "        \n",
    "    def forward(self, x):\n",
    "        # forget gate\n",
    "        f_t = self.sig1(self.Wf(x) + self.Uf(self.hidden_state))\n",
    "        \n",
    "        # input gate\n",
    "        i_t = self.sig2(self.Wi(x) + self.Ui(self.hidden_state))\n",
    "        \n",
    "        # output gate\n",
    "        o_t = self.sig3(self.Wo(x) + self.Uo(self.hidden_state))\n",
    "        \n",
    "        # cell state\n",
    "        c_t_prime =self.relu1(self.Wc(x) + self.Uc(self.hidden_state))\n",
    "        self.cell_state = f_t * self.cell_state + i_t * c_t_prime\n",
    "        \n",
    "        # hidden state\n",
    "        self.hidden_state = o_t * self.relu2(self.cell_state)\n",
    "        \n",
    "        return o_t\n",
    "    \n",
    "    def resetState(self):\n",
    "        self.hidden_state = torch.ones(1, self.in_channels, self.height, self.width).to(\"cuda\")\n",
    "        self.cell_state = torch.ones(1, self.in_channels, self.height, self.width).to(\"cuda\")"
   ]
  },
  {
   "cell_type": "markdown",
   "metadata": {},
   "source": [
    "### LSTM-CNN Group"
   ]
  },
  {
   "cell_type": "code",
   "execution_count": 8,
   "metadata": {},
   "outputs": [],
   "source": [
    "# Use RCNN class"
   ]
  },
  {
   "cell_type": "markdown",
   "metadata": {},
   "source": [
    "# Experiments\n",
    "\n",
    "Hyper parameters:\n",
    "- Loss: BCE loss\n",
    "- epochs 100\n",
    "\n",
    "Outputs:\n",
    "- Loss curves\n",
    "- gradient sums\n",
    "- dice score"
   ]
  },
  {
   "cell_type": "markdown",
   "metadata": {},
   "source": [
    "## Utils"
   ]
  },
  {
   "cell_type": "code",
   "execution_count": 15,
   "metadata": {},
   "outputs": [],
   "source": [
    "from torch.utils.tensorboard import SummaryWriter"
   ]
  },
  {
   "cell_type": "code",
   "execution_count": null,
   "metadata": {},
   "outputs": [],
   "source": [
    "# train loop\n",
    "# tensorboard logging\n",
    "# model save\n",
    "# train and validation metrics"
   ]
  },
  {
   "cell_type": "code",
   "execution_count": 16,
   "metadata": {},
   "outputs": [],
   "source": [
    "def binary_dice_coefficient(prediction, target, threshold=0.5, smooth=1e-5):\n",
    "    prediction_binary = (prediction > threshold).float()\n",
    "    \n",
    "    intersection = torch.sum(prediction_binary * target)\n",
    "    union = torch.sum(prediction_binary) + torch.sum(target)\n",
    "\n",
    "    dice = (2. * intersection + smooth) / (union + smooth)\n",
    "    return dice.cpu().detach()\n",
    "\n",
    "\n",
    "def dice_score(model, dataset, threshold=0.5, device=\"cuda\"):\n",
    "    score_sum = 0\n",
    "    with torch.inference_mode():\n",
    "        for i, data in enumerate(dataset):\n",
    "            input, target = data\n",
    "            input, target = input.to(device), [torch.tensor(t).to(device) for t in target]\n",
    "\n",
    "            prediction = model(input.unsqueeze(dim=0))\n",
    "                \n",
    "            prediction = [torch.sigmoid(p) for p in prediction]\n",
    "            score_sum += sum([binary_dice_coefficient(p.squeeze(), t, threshold) for p, t in zip(prediction, target)])\n",
    "            print(f\"{i:4d}/{len(dataset)}\", end=\"\\r\")\n",
    "\n",
    "    return score_sum/len(dataset)\n",
    "\n",
    "\n",
    "def dice_score_group(model, dataset, threshold=0.5, device=\"cuda\"):\n",
    "    score_sum = 0\n",
    "    with torch.inference_mode():\n",
    "        for i, data in enumerate(dataset):\n",
    "            input, target = data\n",
    "            input, target = [input.to(device).unsqueeze(dim=0) for _ in range(len(target))], [torch.tensor(t).to(device) for t in target]\n",
    "\n",
    "            prediction = model(input)\n",
    "                \n",
    "            prediction = [torch.sigmoid(p) for p in prediction]\n",
    "            score_sum += sum([binary_dice_coefficient(p.squeeze(), t, threshold) for p, t in zip(prediction, target)])\n",
    "            print(f\"{i:4d}/{len(dataset)}\", end=\"\\r\")\n",
    "\n",
    "    return score_sum/len(dataset)\n"
   ]
  },
  {
   "cell_type": "code",
   "execution_count": 17,
   "metadata": {},
   "outputs": [],
   "source": [
    "def train(\n",
    "    dataset: Data, \n",
    "    model: torch.nn.Module,\n",
    "    optimizer: torch.optim.Optimizer, \n",
    "    loss: torch.nn.Module, \n",
    "    writer: SummaryWriter,\n",
    "    n_epochs: tuple=(0, 50),\n",
    "    device: str=\"cuda\",\n",
    "    dice: bool=False,\n",
    "    norm: float=1.0):\n",
    "    \n",
    "    for epoch in range(*n_epochs):\n",
    "        epoch_loss = 0\n",
    "        for data in dataset.train:\n",
    "            # reset hidden state\n",
    "            model.resetState()\n",
    "            \n",
    "            image, annotation = data\n",
    "            image = image.to(device).unsqueeze(dim=0)\n",
    "            \n",
    "            optimizer.zero_grad()\n",
    "            \n",
    "            output = model(image)\n",
    "            \n",
    "            l = 0\n",
    "        \n",
    "            for weight, ann in enumerate(annotation):\n",
    "                ann = torch.tensor(ann).to(\"cuda\").unsqueeze(dim=0).unsqueeze(dim=0).float()/norm\n",
    "                l += loss(output, ann)\n",
    "                # next step input                \n",
    "                output = model(image)\n",
    "            \n",
    "            l.backward()\n",
    "            \n",
    "            optimizer.step()\n",
    "        \n",
    "            epoch_loss += float(l)\n",
    "            \n",
    "        epoch_loss /= len(dataset.train)\n",
    "        writer.add_scalar(\"Loss/train\", epoch_loss, epoch)\n",
    "        print(f\"Epoch {epoch}: {epoch_loss}\")\n",
    "            \n",
    "        # val\n",
    "        with torch.inference_mode():\n",
    "            val_loss = 0\n",
    "            for data in dataset.val:\n",
    "                # reset hidden state\n",
    "                model.resetState()\n",
    "                \n",
    "                image, annotation = data\n",
    "                image = image.to(device).unsqueeze(dim=0)\n",
    "                \n",
    "                output = model(image)\n",
    "                \n",
    "                l = 0\n",
    "            \n",
    "                for weight, ann in enumerate(annotation):\n",
    "                    ann = torch.tensor(ann).to(\"cuda\").unsqueeze(dim=0).unsqueeze(dim=0).float()/norm\n",
    "                    l += loss(output, ann)\n",
    "                    # next step input                \n",
    "                    output = model(image)\n",
    "                    \n",
    "                val_loss += float(l)\n",
    "                \n",
    "            val_loss /= len(dataset.val)\n",
    "            writer.add_scalar(\"Loss/val\", val_loss, epoch)\n",
    "            writer.add_scalar(\"GradNorm\", model.grad_norm(), epoch)\n",
    "            \n",
    "    if not dice:\n",
    "        return\n",
    "    for i, thresh in enumerate(np.arange(0, 1, 0.1)):\n",
    "        writer.add_scalar(\"Dice/train\", dice_score(model, dataset.train, thresh), i)\n",
    "        writer.add_scalar(\"Dice/val\", dice_score(model, dataset.val, thresh), i)\n",
    "        "
   ]
  },
  {
   "cell_type": "code",
   "execution_count": 18,
   "metadata": {},
   "outputs": [],
   "source": [
    "def train_group(dataset: Data, \n",
    "    model: torch.nn.Module,\n",
    "    optimizer: torch.optim.Optimizer, \n",
    "    loss: torch.nn.Module, \n",
    "    writer: SummaryWriter,\n",
    "    n_epochs: tuple=(0, 100),\n",
    "    device: str=\"cuda\",\n",
    "    dice: bool=False):\n",
    "    for epoch in range(*n_epochs):\n",
    "        epoch_loss = 0\n",
    "        # train\n",
    "        model.train()\n",
    "        for data in dataset.train:\n",
    "            # reset hidden state\n",
    "            model.resetState()\n",
    "            \n",
    "            image, annotation = data\n",
    "            image = [image.to(device).unsqueeze(dim=0) for _ in range(len(annotation))]\n",
    "        \n",
    "            output = model(image)\n",
    "            \n",
    "            # compute loss\n",
    "            l = 0\n",
    "            for i, ann in enumerate(annotation):\n",
    "                loss = torch.nn.BCEWithLogitsLoss(pos_weight=torch.tensor(float((i+1))).to(\"cuda\"))\n",
    "                ann = torch.tensor(ann).to(device).unsqueeze(dim=0).unsqueeze(dim=0)\n",
    "                l += loss(output[i], ann) #* (weight+1)\n",
    "                    \n",
    "            l.backward()\n",
    "            \n",
    "            # clipping gradients\n",
    "            nn.utils.clip_grad_norm_(model.parameters(), 1.0)\n",
    "            \n",
    "            optimizer.step()\n",
    "        \n",
    "            epoch_loss += float(l)\n",
    "            \n",
    "        epoch_loss /= len(dataset.train)\n",
    "        writer.add_scalar(\"Loss/train\", epoch_loss, epoch)\n",
    "        print(f\"Epoch {epoch}: {epoch_loss}\")\n",
    "            \n",
    "        # val\n",
    "        model.eval()\n",
    "        with torch.inference_mode():\n",
    "            val_loss = 0\n",
    "            for data in dataset.val:\n",
    "                # reset hidden state\n",
    "                model.resetState()\n",
    "                \n",
    "                image, annotation = data\n",
    "                image = [image.to(device).unsqueeze(dim=0) for _ in range(len(annotation))]\n",
    "                \n",
    "                output = model(image)\n",
    "            \n",
    "            # compute loss\n",
    "            l = 0\n",
    "            for i, ann in enumerate(annotation):\n",
    "                loss = torch.nn.BCEWithLogitsLoss(pos_weight=torch.tensor(float((i+1))).to(\"cuda\"))\n",
    "                ann = torch.tensor(ann).to(device).unsqueeze(dim=0).unsqueeze(dim=0)\n",
    "                l += loss(output[i], ann) #* (weight+1)\n",
    "                    \n",
    "                val_loss += float(l)\n",
    "                \n",
    "            val_loss /= len(dataset.val)\n",
    "            writer.add_scalar(\"Loss/val\", val_loss, epoch)\n",
    "            writer.add_scalar(\"GradNorm\", model.grad_norm(), epoch)\n",
    "            \n",
    "    if not dice:\n",
    "        return\n",
    "    for i, thresh in enumerate(np.arange(0, 1, 0.1)):\n",
    "        writer.add_scalar(\"Dice/train\", dice_score_group(model, dataset.train, thresh), i)\n",
    "        writer.add_scalar(\"Dice/val\", dice_score_group(model, dataset.val, thresh), i)"
   ]
  },
  {
   "cell_type": "code",
   "execution_count": 19,
   "metadata": {},
   "outputs": [],
   "source": [
    "import matplotlib.pyplot as plt\n",
    "\n",
    "def show_results(model, dataset, idx, in_channels=3, height=200, width=200):\n",
    "    with torch.inference_mode():\n",
    "        image, annotation = dataset[idx]\n",
    "        plt.figure(figsize=(20, 10))\n",
    "        \n",
    "        plt.subplot(1, 7, 1)\n",
    "        plt.imshow(image.permute(1,2,0))\n",
    "        plt.axis(\"off\")\n",
    "        \n",
    "        image = (image).unsqueeze(dim=0).to(\"cuda\")\n",
    "        \n",
    "        model.hidden = torch.ones(1, in_channels, height, width).to(\"cuda\")\n",
    "        for i in range(5):\n",
    "            plt.subplot(1, 7, i+2)\n",
    "            output = model(image)\n",
    "            \n",
    "            plt.imshow(output.detach().cpu().squeeze())\n",
    "            # plt.imshow(annotation[i])\n",
    "            plt.axis(\"off\")\n",
    "            \n",
    "            \n",
    "def show_results_group(model, dataset, idx, in_channels=3, height=200, width=200):\n",
    "    with torch.inference_mode():\n",
    "        image, annotation = dataset[idx]\n",
    "        plt.figure(figsize=(20, 10))\n",
    "        \n",
    "        plt.subplot(1, 7, 1)\n",
    "        plt.imshow(image.permute(1,2,0))\n",
    "        plt.axis(\"off\")\n",
    "        \n",
    "        image = [image.cuda().unsqueeze(dim=0) for _ in range(5)]\n",
    "        output = model(image)\n",
    "        \n",
    "        for i in range(5):\n",
    "            plt.subplot(1, 7, i+2)\n",
    "            \n",
    "            plt.imshow(output[i].detach().cpu().squeeze())\n",
    "            # plt.imshow(annotation[i])\n",
    "            plt.axis(\"off\")"
   ]
  },
  {
   "cell_type": "code",
   "execution_count": 20,
   "metadata": {},
   "outputs": [],
   "source": [
    "def n_params(model):\n",
    "    return sum(param.numel() for param in model.parameters() if param.requires_grad)"
   ]
  },
  {
   "cell_type": "markdown",
   "metadata": {},
   "source": [
    "## RP500"
   ]
  },
  {
   "cell_type": "markdown",
   "metadata": {},
   "source": [
    "### Exp - RP500, R-CNN"
   ]
  },
  {
   "cell_type": "code",
   "execution_count": 32,
   "metadata": {},
   "outputs": [],
   "source": [
    "model = RCNNCell(3, 200, 200).to(\"cuda\")\n",
    "optimizer = torch.optim.Adam(model.parameters(), lr=1e-4)\n",
    "loss = torch.nn.BCEWithLogitsLoss(pos_weight=torch.tensor(4.).cuda())\n",
    "writer = SummaryWriter(f\"./runs/RP500_RCNN\", comment=\"BCE_pos=4.0\")"
   ]
  },
  {
   "cell_type": "code",
   "execution_count": 57,
   "metadata": {},
   "outputs": [
    {
     "name": "stdout",
     "output_type": "stream",
     "text": [
      "Epoch 50: 2.8680743426077213\n",
      "Epoch 51: 2.8675112450283624\n",
      "Epoch 52: 2.865393498159995\n",
      "Epoch 53: 2.8664380543877774\n",
      "Epoch 54: 2.8659983077659836\n",
      "Epoch 55: 2.8618140389685727\n",
      "Epoch 56: 2.8624154945587477\n",
      "Epoch 57: 2.8628545498689255\n",
      "Epoch 58: 2.862949888528702\n",
      "Epoch 59: 2.86095725389969\n",
      "Epoch 60: 2.8612638346866817\n",
      "Epoch 61: 2.8590575327725283\n",
      "Epoch 62: 2.8578576147138732\n",
      "Epoch 63: 2.857347203837467\n",
      "Epoch 64: 2.857370716309921\n",
      "Epoch 65: 2.8566543398229935\n",
      "Epoch 66: 2.854220306249731\n",
      "Epoch 67: 2.854741789296148\n",
      "Epoch 68: 2.852640424195369\n",
      "Epoch 69: 2.8547353476505397\n",
      "Epoch 70: 2.853307135269498\n",
      "Epoch 71: 2.8520797348938016\n",
      "Epoch 72: 2.849897116870834\n",
      "Epoch 73: 2.848806857344109\n",
      "Epoch 74: 2.8519666455764057\n",
      "Epoch 75: 2.8524981359689785\n",
      "Epoch 76: 2.849592764297441\n",
      "Epoch 77: 2.847868211012584\n",
      "Epoch 78: 2.848031011708802\n",
      "Epoch 79: 2.8493341024323366\n",
      "Epoch 80: 2.8483573774341555\n",
      "Epoch 81: 2.8482497571643903\n",
      "Epoch 82: 2.84572535525012\n",
      "Epoch 83: 2.8456362728725866\n",
      "Epoch 84: 2.845789851019099\n",
      "Epoch 85: 2.8457030080459735\n",
      "Epoch 86: 2.8447894217709315\n",
      "Epoch 87: 2.8446410706559635\n",
      "Epoch 88: 2.8427593530660835\n",
      "Epoch 89: 2.8443791722782343\n",
      "Epoch 90: 2.8429265521924556\n",
      "Epoch 91: 2.8444380979806794\n",
      "Epoch 92: 2.842402361140803\n",
      "Epoch 93: 2.841500081207652\n",
      "Epoch 94: 2.843132382551059\n",
      "Epoch 95: 2.839957210057236\n",
      "Epoch 96: 2.842282651498288\n",
      "Epoch 97: 2.8419085329607907\n",
      "Epoch 98: 2.839049778967245\n",
      "Epoch 99: 2.8387322048137005\n",
      "  49/500\r"
     ]
    }
   ],
   "source": [
    "train(dRP500,\n",
    "      model,\n",
    "      optimizer,\n",
    "      loss,\n",
    "      writer,\n",
    "      n_epochs=(50, 100),\n",
    "      dice=True)"
   ]
  },
  {
   "cell_type": "code",
   "execution_count": 50,
   "metadata": {},
   "outputs": [
    {
     "data": {
      "text/plain": [
       "898"
      ]
     },
     "execution_count": 50,
     "metadata": {},
     "output_type": "execute_result"
    }
   ],
   "source": [
    "n_params(model)"
   ]
  },
  {
   "cell_type": "code",
   "execution_count": 58,
   "metadata": {},
   "outputs": [],
   "source": [
    "#torch.save(model, \"./models/RP500_RCNN.pth\")"
   ]
  },
  {
   "cell_type": "code",
   "execution_count": 61,
   "metadata": {},
   "outputs": [
    {
     "data": {
      "image/png": "[encoded data removed]",
      "text/plain": [
       "<Figure size 2000x1000 with 6 Axes>"
      ]
     },
     "metadata": {},
     "output_type": "display_data"
    }
   ],
   "source": [
    "show_results(model, dRP500.test, 3)"
   ]
  },
  {
   "cell_type": "markdown",
   "metadata": {},
   "source": [
    "### Exp - RP500, LSTM-CNN"
   ]
  },
  {
   "cell_type": "code",
   "execution_count": 105,
   "metadata": {},
   "outputs": [
    {
     "data": {
      "text/plain": [
       "14641"
      ]
     },
     "execution_count": 105,
     "metadata": {},
     "output_type": "execute_result"
    }
   ],
   "source": [
    "model = RCNNCell(3, 200, 200, UnitProcess=UnitProcess2).to(\"cuda\")\n",
    "optimizer = torch.optim.Adam(model.parameters(), lr=1e-4)\n",
    "loss = torch.nn.BCEWithLogitsLoss(pos_weight=torch.tensor(4.).cuda())\n",
    "writer = SummaryWriter(f\"./runs/RP500_RCNN_d2\", comment=\"Lr_1e-5, BCE=4., deeper\")\n",
    "n_params(model)"
   ]
  },
  {
   "cell_type": "code",
   "execution_count": 117,
   "metadata": {},
   "outputs": [
    {
     "name": "stdout",
     "output_type": "stream",
     "text": [
      "Epoch 80: 2.6283501523052464\n",
      "Epoch 81: 2.648644563716311\n",
      "Epoch 82: 2.6922263218959643\n",
      "Epoch 83: 2.664461076961831\n",
      "Epoch 84: 2.6389496684319784\n",
      "Epoch 85: 2.6346055397769623\n",
      "Epoch 86: 2.63629299410965\n",
      "Epoch 87: 2.6284584223350915\n",
      "Epoch 88: 2.6250707975698027\n",
      "Epoch 89: 2.6245431736714897\n",
      "Epoch 90: 2.6353396080831066\n",
      "Epoch 91: 2.6549210437707553\n",
      "Epoch 92: 2.653559258965247\n",
      "Epoch 93: 2.640345098751498\n",
      "Epoch 94: 2.6369185012509258\n",
      "Epoch 95: 2.629304309967462\n",
      "Epoch 96: 2.6253629344841105\n",
      "Epoch 97: 2.6248946809638314\n",
      "Epoch 98: 2.621339068602273\n",
      "Epoch 99: 2.6207978423907963\n",
      "  49/500\r"
     ]
    }
   ],
   "source": [
    "train(dRP500,\n",
    "      model,\n",
    "      optimizer,\n",
    "      loss,\n",
    "      writer,\n",
    "      n_epochs=(80, 100),\n",
    "      dice=True)"
   ]
  },
  {
   "cell_type": "code",
   "execution_count": 118,
   "metadata": {},
   "outputs": [],
   "source": [
    "torch.save(model, \"./models/RP500_RNN_CNN_deep.pth\")"
   ]
  },
  {
   "cell_type": "code",
   "execution_count": 123,
   "metadata": {},
   "outputs": [
    {
     "data": {
      "image/png": "[encoded data removed]",
      "text/plain": [
       "<Figure size 2000x1000 with 6 Axes>"
      ]
     },
     "metadata": {},
     "output_type": "display_data"
    }
   ],
   "source": [
    "show_results(model, dRP500.val, 2)"
   ]
  },
  {
   "cell_type": "markdown",
   "metadata": {},
   "source": [
    "### Exp - RP500, RCNN group"
   ]
  },
  {
   "cell_type": "code",
   "execution_count": 41,
   "metadata": {},
   "outputs": [
    {
     "data": {
      "text/plain": [
       "1012"
      ]
     },
     "execution_count": 41,
     "metadata": {},
     "output_type": "execute_result"
    }
   ],
   "source": [
    "model =  RCNN(rcnn_cell=lambda *x: RCNNCell(*x),\n",
    "             n_cells=2,\n",
    "             in_channels=3,\n",
    "             height=200,\n",
    "             width=200,\n",
    "             out_channels=1).to(\"cuda\")\n",
    "optimizer = torch.optim.Adam(model.parameters(), lr=1e-4)\n",
    "loss = torch.nn.BCEWithLogitsLoss(pos_weight=torch.tensor(4.).cuda())\n",
    "writer = SummaryWriter(f\"./runs/RP500_RCNN_Group_ortho\", comment=\"BCE=4.0,lr=1e-4,cells=2,ortho_init\")\n",
    "n_params(model)"
   ]
  },
  {
   "cell_type": "code",
   "execution_count": 35,
   "metadata": {},
   "outputs": [
    {
     "name": "stdout",
     "output_type": "stream",
     "text": [
      "Epoch 0: 2.8564747847130705\n",
      "Epoch 1: 2.8512153672517377\n",
      "Epoch 2: 2.851197821872854\n",
      "Epoch 3: 2.8511979019962244\n",
      "Epoch 4: 2.8511979019962244\n",
      "Epoch 5: 2.8511979019962244\n",
      "Epoch 6: 2.8511979019962244\n",
      "Epoch 7: 2.8511979019962244\n",
      "Epoch 8: 2.8511979019962244\n",
      "Epoch 9: 2.8511979019962244\n"
     ]
    }
   ],
   "source": [
    "train_group(dRP500,\n",
    "      model,\n",
    "      optimizer,\n",
    "      loss,\n",
    "      writer,\n",
    "      n_epochs=(0, 10)\n",
    "      )"
   ]
  },
  {
   "cell_type": "code",
   "execution_count": 21,
   "metadata": {},
   "outputs": [
    {
     "data": {
      "image/png": "[encoded data removed]",
      "text/plain": [
       "<Figure size 2000x1000 with 6 Axes>"
      ]
     },
     "metadata": {},
     "output_type": "display_data"
    }
   ],
   "source": [
    "show_results_group(model, dRP500.train, 4)"
   ]
  },
  {
   "cell_type": "markdown",
   "metadata": {},
   "source": [
    "Can't train"
   ]
  },
  {
   "cell_type": "markdown",
   "metadata": {},
   "source": [
    "### Exp - RP500, LSTM-CNN group"
   ]
  },
  {
   "cell_type": "code",
   "execution_count": 45,
   "metadata": {},
   "outputs": [
    {
     "data": {
      "text/plain": [
       "2400"
      ]
     },
     "execution_count": 45,
     "metadata": {},
     "output_type": "execute_result"
    }
   ],
   "source": [
    "model = RCNN(rcnn_cell=lambda *x: RLSTMCell(*x),\n",
    "             n_cells=2,\n",
    "             in_channels=3,\n",
    "             height=200,\n",
    "             width=200,\n",
    "             out_channels=1).to(\"cuda\")\n",
    "optimizer = torch.optim.Adam(model.parameters(), lr=1e-4)\n",
    "loss = torch.nn.BCEWithLogitsLoss(pos_weight=torch.tensor(4.).cuda())\n",
    "writer = SummaryWriter(f\"./runs/RP500_LSTM_Group_ortho_clip\", comment=\"BCE=4.0,lr=1e-4,cells=4 ortho init with clipping\")\n",
    "n_params(model)"
   ]
  },
  {
   "cell_type": "code",
   "execution_count": 46,
   "metadata": {},
   "outputs": [
    {
     "name": "stdout",
     "output_type": "stream",
     "text": [
      "Epoch 0: 2.610196255184271\n",
      "Epoch 1: 2.115631342119953\n",
      "Epoch 2: 1.9034070779793755\n",
      "Epoch 3: 1.7822841977964656\n",
      "Epoch 4: 1.7239764015065087\n",
      "Epoch 5: 1.6982625248459415\n",
      "Epoch 6: 1.674251758210587\n",
      "Epoch 7: 1.647503039968345\n",
      "Epoch 8: 1.632618001268118\n",
      "Epoch 9: 1.6189249484878911\n"
     ]
    }
   ],
   "source": [
    "train_group(dRP500,\n",
    "      model,\n",
    "      optimizer,\n",
    "      loss,\n",
    "      writer,\n",
    "      n_epochs=(0, 10)\n",
    "      )"
   ]
  },
  {
   "cell_type": "markdown",
   "metadata": {},
   "source": [
    "Exploding gradient, clipping doesn't work"
   ]
  },
  {
   "cell_type": "code",
   "execution_count": 47,
   "metadata": {},
   "outputs": [
    {
     "data": {
      "image/png": "[encoded data removed]",
      "text/plain": [
       "<Figure size 2000x1000 with 6 Axes>"
      ]
     },
     "metadata": {},
     "output_type": "display_data"
    }
   ],
   "source": [
    "show_results_group(model, dRP500.train, 2)"
   ]
  },
  {
   "cell_type": "markdown",
   "metadata": {},
   "source": [
    "### Exp - RP500, SegNet implementation"
   ]
  },
  {
   "cell_type": "code",
   "execution_count": null,
   "metadata": {},
   "outputs": [],
   "source": [
    "SegNet = lambda x, y: nn.Sequential(\n",
    "    nn.Conv2d(x, 64, 3, 1, 1),\n",
    "    nn.BatchNorm2d(64),\n",
    "    nn.ReLU(),\n",
    "    nn.MaxPool2d(2, 2),\n",
    "    \n",
    "    nn.Conv2d(64, 128, 3, 1, 1),\n",
    "    nn.BatchNorm2d(128),\n",
    "    nn.ReLU(),\n",
    "    nn.Dropout(0.05),\n",
    "    nn.MaxPool2d(2, 2),\n",
    "    \n",
    "    nn.Conv2d(128, 128, 3, 1, 1),\n",
    "    nn.BatchNorm2d(128),\n",
    "    nn.ReLU(),\n",
    "    nn.Dropout(0.05),\n",
    "    \n",
    "    nn.ConvTranspose2d(128, 64, 2, 2),\n",
    "    nn.Conv2d(64, 64, 3, 1, 1),\n",
    "    nn.BatchNorm2d(64),\n",
    "    nn.ReLU(),\n",
    "    \n",
    "    nn.ConvTranspose2d(64, 32, 2, 2),\n",
    "    nn.Conv2d(32, 32, 3, 1, 1),\n",
    "    nn.BatchNorm2d(32),\n",
    "    nn.ReLU(),\n",
    "    nn.Conv2d(32, y, 3, 1, 1),\n",
    "    \n",
    ")"
   ]
  },
  {
   "cell_type": "code",
   "execution_count": 35,
   "metadata": {},
   "outputs": [],
   "source": [
    "model = RCNNCell(3, 200, 200, UnitProcess=SegNet).to(\"cuda\")\n",
    "optimizer = torch.optim.Adam(model.parameters(), lr=1e-4)\n",
    "loss = torch.nn.BCEWithLogitsLoss(pos_weight=torch.tensor(4.).cuda())\n",
    "writer = SummaryWriter(f\"./runs/RP500_RCNN_SegNet/4\", comment=\"BCE_pos=4.0, segnet, lr=1e-4, dropout\")"
   ]
  },
  {
   "cell_type": "code",
   "execution_count": 43,
   "metadata": {},
   "outputs": [
    {
     "name": "stdout",
     "output_type": "stream",
     "text": [
      "Epoch 50: 2.536123527223472\n",
      "Epoch 51: 2.5346589926218304\n",
      "Epoch 52: 2.5328439079954945\n",
      "Epoch 53: 2.531970390742943\n",
      "Epoch 54: 2.531590075764868\n",
      "Epoch 55: 2.535396984259802\n",
      "Epoch 56: 2.5869604546306584\n",
      "Epoch 57: 2.5558665859208025\n",
      "Epoch 58: 2.5381567047371805\n",
      "Epoch 59: 2.533958183506039\n",
      "Epoch 60: 2.5329889093542586\n",
      "Epoch 61: 2.53836498603083\n",
      "Epoch 62: 2.531923004129184\n",
      "Epoch 63: 2.5308216661540524\n",
      "Epoch 64: 2.5337558041711365\n",
      "Epoch 65: 2.531808437539452\n",
      "Epoch 66: 2.530602525161295\n",
      "Epoch 67: 2.530078076169244\n",
      "Epoch 68: 2.5304094620662583\n",
      "Epoch 69: 2.5417237082378223\n",
      "Epoch 70: 2.5523064093990455\n",
      "Epoch 71: 2.561971349419136\n",
      "Epoch 72: 2.546830456612462\n",
      "Epoch 73: 2.5326377159359637\n",
      "Epoch 74: 2.53049977147207\n",
      "Epoch 75: 2.5295193656159674\n",
      "Epoch 76: 2.5287913287063613\n",
      "Epoch 77: 2.5285030273856997\n",
      "Epoch 78: 2.5282962019474784\n",
      "Epoch 79: 2.528505035288353\n",
      "Epoch 80: 2.539938713455637\n",
      "Epoch 81: 2.5412458111741674\n",
      "Epoch 82: 2.5314350510632093\n",
      "Epoch 83: 2.5294278614458996\n",
      "Epoch 84: 2.52843080969792\n",
      "Epoch 85: 2.5278408821679537\n",
      "Epoch 86: 2.528006721713438\n",
      "Epoch 87: 2.5282834711799347\n",
      "Epoch 88: 2.529155070839775\n",
      "Epoch 89: 2.531569836092712\n",
      "Epoch 90: 2.5416619627518338\n",
      "Epoch 91: 2.5420269076497464\n",
      "Epoch 92: 2.531984246532494\n",
      "Epoch 93: 2.5287799834367477\n",
      "Epoch 94: 2.527722731810266\n",
      "Epoch 95: 2.527321151827149\n",
      "Epoch 96: 2.527184621595993\n",
      "Epoch 97: 2.5279550550182672\n",
      "Epoch 98: 2.529299428695884\n",
      "Epoch 99: 2.5287127003407606\n",
      "  49/500\r"
     ]
    }
   ],
   "source": [
    "train(dRP500,\n",
    "      model,\n",
    "      optimizer,\n",
    "      loss,\n",
    "      writer,\n",
    "      n_epochs=(50, 100),\n",
    "      dice=True\n",
    "      )"
   ]
  },
  {
   "cell_type": "code",
   "execution_count": 44,
   "metadata": {},
   "outputs": [],
   "source": [
    "torch.save(model, \"./models/RP500_RSegNetDrop.pth\")"
   ]
  },
  {
   "cell_type": "code",
   "execution_count": 51,
   "metadata": {},
   "outputs": [
    {
     "data": {
      "image/png": "[encoded data removed]",
      "text/plain": [
       "<Figure size 2000x1000 with 6 Axes>"
      ]
     },
     "metadata": {},
     "output_type": "display_data"
    }
   ],
   "source": [
    "show_results(model, dRP500.train, 12)"
   ]
  },
  {
   "cell_type": "markdown",
   "metadata": {},
   "source": [
    "### Exp -  RP500, CNN-GRU implementation\n",
    "\n",
    "Meant for one-to-one implementation - not suitable"
   ]
  },
  {
   "cell_type": "code",
   "execution_count": 53,
   "metadata": {},
   "outputs": [],
   "source": [
    "import torch\n",
    "import torch.nn as nn\n",
    "import numpy as np\n",
    "import torch.nn.functional as F\n",
    "from torch.nn import init\n",
    "from torch.autograd import Variable\n",
    "\n",
    "\n",
    "class ConvGRUCell(Model):\n",
    "    \"\"\"\n",
    "    Generate a convolutional GRU cell\n",
    "    \"\"\"\n",
    "\n",
    "    def __init__(self, input_size, hidden_size, kernel_size):\n",
    "        super().__init__()\n",
    "        padding = kernel_size // 2\n",
    "        self.input_size = input_size\n",
    "        self.hidden_size = hidden_size\n",
    "        self.reset_gate = nn.Conv2d(input_size + hidden_size, hidden_size, kernel_size, padding=padding)\n",
    "        self.update_gate = nn.Conv2d(input_size + hidden_size, hidden_size, kernel_size, padding=padding)\n",
    "        self.out_gate = nn.Conv2d(input_size + hidden_size, hidden_size, kernel_size, padding=padding)\n",
    "\n",
    "        init.orthogonal_(self.reset_gate.weight)\n",
    "        init.orthogonal_(self.update_gate.weight)\n",
    "        init.orthogonal_(self.out_gate.weight)\n",
    "        init.constant_(self.reset_gate.bias, 0.)\n",
    "        init.constant_(self.update_gate.bias, 0.)\n",
    "        init.constant_(self.out_gate.bias, 0.)\n",
    "\n",
    "\n",
    "    def forward(self, input_, prev_state):\n",
    "\n",
    "        # get batch and spatial sizes\n",
    "        batch_size = input_.data.size()[0]\n",
    "        spatial_size = input_.data.size()[2:]\n",
    "\n",
    "        # generate empty prev_state, if None is provided\n",
    "        if prev_state is None:\n",
    "            state_size = [batch_size, self.hidden_size] + list(spatial_size)\n",
    "            if torch.cuda.is_available():\n",
    "                prev_state = Variable(torch.zeros(state_size)).cuda()\n",
    "            else:\n",
    "                prev_state = Variable(torch.zeros(state_size))\n",
    "\n",
    "        # data size is [batch, channel, height, width]\n",
    "        stacked_inputs = torch.cat([input_, prev_state], dim=1)\n",
    "        update = F.sigmoid(self.update_gate(stacked_inputs))\n",
    "        reset = F.sigmoid(self.reset_gate(stacked_inputs))\n",
    "        out_inputs = F.tanh(self.out_gate(torch.cat([input_, prev_state * reset], dim=1)))\n",
    "        new_state = prev_state * (1 - update) + out_inputs * update\n",
    "\n",
    "        return new_state\n",
    "\n",
    "\n",
    "class ConvGRU(Model):\n",
    "\n",
    "    def __init__(self, input_size, hidden_sizes, kernel_sizes, n_layers):\n",
    "        '''\n",
    "        Generates a multi-layer convolutional GRU.\n",
    "        Preserves spatial dimensions across cells, only altering depth.\n",
    "\n",
    "        Parameters\n",
    "        ----------\n",
    "        input_size : integer. depth dimension of input tensors.\n",
    "        hidden_sizes : integer or list. depth dimensions of hidden state.\n",
    "            if integer, the same hidden size is used for all cells.\n",
    "        kernel_sizes : integer or list. sizes of Conv2d gate kernels.\n",
    "            if integer, the same kernel size is used for all cells.\n",
    "        n_layers : integer. number of chained `ConvGRUCell`.\n",
    "        '''\n",
    "\n",
    "        super(ConvGRU, self).__init__()\n",
    "\n",
    "        self.input_size = input_size\n",
    "\n",
    "        if type(hidden_sizes) != list:\n",
    "            self.hidden_sizes = [hidden_sizes]*n_layers\n",
    "        else:\n",
    "            assert len(hidden_sizes) == n_layers, '`hidden_sizes` must have the same length as n_layers'\n",
    "            self.hidden_sizes = hidden_sizes\n",
    "        if type(kernel_sizes) != list:\n",
    "            self.kernel_sizes = [kernel_sizes]*n_layers\n",
    "        else:\n",
    "            assert len(kernel_sizes) == n_layers, '`kernel_sizes` must have the same length as n_layers'\n",
    "            self.kernel_sizes = kernel_sizes\n",
    "\n",
    "        self.n_layers = n_layers\n",
    "\n",
    "        cells = []\n",
    "        for i in range(self.n_layers):\n",
    "            if i == 0:\n",
    "                input_dim = self.input_size\n",
    "            else:\n",
    "                input_dim = self.hidden_sizes[i-1]\n",
    "\n",
    "            cell = ConvGRUCell(input_dim, self.hidden_sizes[i], self.kernel_sizes[i])\n",
    "            name = 'ConvGRUCell_' + str(i).zfill(2)\n",
    "\n",
    "            setattr(self, name, cell)\n",
    "            cells.append(getattr(self, name))\n",
    "\n",
    "        self.cells = cells\n",
    "\n",
    "\n",
    "    def forward(self, x, hidden=None):\n",
    "        '''\n",
    "        Parameters\n",
    "        ----------\n",
    "        x : 4D input tensor. (batch, channels, height, width).\n",
    "        hidden : list of 4D hidden state representations. (batch, channels, height, width).\n",
    "\n",
    "        Returns\n",
    "        -------\n",
    "        upd_hidden : 5D hidden representation. (layer, batch, channels, height, width).\n",
    "        '''\n",
    "        if not hidden:\n",
    "            hidden = [None]*self.n_layers\n",
    "\n",
    "        input_ = x\n",
    "\n",
    "        upd_hidden = []\n",
    "\n",
    "        for layer_idx in range(self.n_layers):\n",
    "            cell = self.cells[layer_idx]\n",
    "            cell_hidden = hidden[layer_idx]\n",
    "\n",
    "            # pass through layer\n",
    "            upd_cell_hidden = cell(input_, cell_hidden)\n",
    "            upd_hidden.append(upd_cell_hidden)\n",
    "            # update input_ to the last updated hidden layer for next pass\n",
    "            input_ = upd_cell_hidden\n",
    "\n",
    "        # retain tensors in list to allow different hidden sizes\n",
    "        return upd_hidden"
   ]
  },
  {
   "cell_type": "code",
   "execution_count": 67,
   "metadata": {},
   "outputs": [
    {
     "data": {
      "text/plain": [
       "321"
      ]
     },
     "execution_count": 67,
     "metadata": {},
     "output_type": "execute_result"
    }
   ],
   "source": [
    "model = ConvGRU(3, \n",
    "                hidden_sizes=[32,64,16,1],\n",
    "                kernel_sizes=[3, 5, 3], \n",
    "                n_layers=3).to(\"cuda\")\n",
    "optimizer = torch.optim.Adam(model.parameters(), lr=1e-4)\n",
    "loss = torch.nn.BCEWithLogitsLoss(pos_weight=torch.tensor(4.).cuda())\n",
    "writer = SummaryWriter(f\"./runs/RP500_CNNGRU\", comment=\"BCE=4.0,lr=1e-4,cells=3\")\n",
    "n_params(model)"
   ]
  },
  {
   "cell_type": "code",
   "execution_count": 79,
   "metadata": {},
   "outputs": [
    {
     "name": "stdout",
     "output_type": "stream",
     "text": [
      "Epoch 0: 3.133318409173952\n",
      "Epoch 1: 3.085067173441447\n",
      "Epoch 2: 3.063026823169803\n",
      "Epoch 3: 3.05093120703727\n",
      "Epoch 4: 3.0434626041270265\n",
      "Epoch 5: 3.0384654665361843\n",
      "Epoch 6: 3.0349227859601844\n",
      "Epoch 7: 3.032299765622825\n",
      "Epoch 8: 3.0302911689486147\n",
      "Epoch 9: 3.028711493329313\n"
     ]
    }
   ],
   "source": [
    "n_epochs = (0, 10)\n",
    "dataset = dRP500\n",
    "device = 'cuda'\n",
    "for epoch in range(*n_epochs):\n",
    "    epoch_loss = 0\n",
    "    for data in dataset.train:        \n",
    "        image, annotation = data\n",
    "        image = image.to(device).unsqueeze(dim=0)\n",
    "        \n",
    "        optimizer.zero_grad()\n",
    "        \n",
    "        output = model(image)\n",
    "        \n",
    "        l = 0\n",
    "    \n",
    "        for weight, ann in enumerate(annotation):\n",
    "            ann = torch.tensor(ann).to(\"cuda\").unsqueeze(dim=0).unsqueeze(dim=0)\n",
    "            l += loss(output[-1], ann)\n",
    "            # next step input                \n",
    "            output = model(image)\n",
    "        \n",
    "        l.backward()\n",
    "        \n",
    "        optimizer.step()\n",
    "    \n",
    "        epoch_loss += float(l)\n",
    "        \n",
    "    epoch_loss /= len(dataset.train)\n",
    "    writer.add_scalar(\"Loss/train\", epoch_loss, epoch)\n",
    "    print(f\"Epoch {epoch}: {epoch_loss}\")\n",
    "        \n",
    "    # val\n",
    "    with torch.inference_mode():\n",
    "        val_loss = 0\n",
    "        for data in dataset.val:\n",
    "            \n",
    "            image, annotation = data\n",
    "            image = image.to(device).unsqueeze(dim=0)\n",
    "            \n",
    "            output = model(image)\n",
    "            \n",
    "            l = 0\n",
    "        \n",
    "            for weight, ann in enumerate(annotation):\n",
    "                ann = torch.tensor(ann).to(\"cuda\").unsqueeze(dim=0).unsqueeze(dim=0)\n",
    "                l += loss(output[-1], ann)\n",
    "                # next step input                \n",
    "                output = model(image)\n",
    "                \n",
    "            val_loss += float(l)\n",
    "            \n",
    "        val_loss /= len(dataset.val)\n",
    "        writer.add_scalar(\"Loss/val\", val_loss, epoch)\n",
    "        writer.add_scalar(\"GradNorm\", model.grad_norm(), epoch)\n",
    "        \n",
    "if False:\n",
    "    for i, thresh in enumerate(np.arange(0, 1, 0.1)):\n",
    "        writer.add_scalar(\"Dice/train\", dice_score(model, dataset.train, thresh), i)\n",
    "        writer.add_scalar(\"Dice/val\", dice_score(model, dataset.val, thresh), i)"
   ]
  },
  {
   "cell_type": "code",
   "execution_count": 80,
   "metadata": {},
   "outputs": [
    {
     "data": {
      "text/plain": [
       "4"
      ]
     },
     "execution_count": 80,
     "metadata": {},
     "output_type": "execute_result"
    }
   ],
   "source": [
    "len(annotation)"
   ]
  },
  {
   "cell_type": "markdown",
   "metadata": {},
   "source": [
    "## PP500"
   ]
  },
  {
   "cell_type": "markdown",
   "metadata": {},
   "source": [
    "### Exp - PP500, R-CNN"
   ]
  },
  {
   "cell_type": "code",
   "execution_count": 29,
   "metadata": {},
   "outputs": [
    {
     "data": {
      "text/plain": [
       "898"
      ]
     },
     "execution_count": 29,
     "metadata": {},
     "output_type": "execute_result"
    }
   ],
   "source": [
    "s = 300\n",
    "model = RCNNCell(3, s, s).to(\"cuda\")\n",
    "optimizer = torch.optim.Adam(model.parameters(), lr=1e-5)\n",
    "loss = torch.nn.BCEWithLogitsLoss(pos_weight=torch.tensor(4.).cuda())\n",
    "writer = SummaryWriter(f\"./runs/PP500/RCNN_3\", comment=\"BCE_pos=4.0, lr=1e-4\")\n",
    "n_params(model)"
   ]
  },
  {
   "cell_type": "code",
   "execution_count": 32,
   "metadata": {},
   "outputs": [
    {
     "name": "stdout",
     "output_type": "stream",
     "text": [
      "Epoch 20: 2.393848856687546\n",
      "Epoch 21: 2.393811448216438\n",
      "Epoch 22: 2.3937813356518745\n",
      "Epoch 23: 2.3937566164135933\n",
      "Epoch 24: 2.393736793398857\n",
      "Epoch 25: 2.3937209671735764\n",
      "Epoch 26: 2.393708128333092\n",
      "Epoch 27: 2.3936976447701452\n",
      "Epoch 28: 2.393689205646515\n",
      "Epoch 29: 2.393682363629341\n",
      "Epoch 30: 2.393676751255989\n",
      "Epoch 31: 2.3936722004413604\n",
      "Epoch 32: 2.3936685904860497\n",
      "Epoch 33: 2.3936657598614692\n",
      "Epoch 34: 2.393663528561592\n",
      "Epoch 35: 2.3936617097258566\n",
      "Epoch 36: 2.3936602333188057\n",
      "Epoch 37: 2.3936589816212654\n",
      "Epoch 38: 2.3936579367518425\n",
      "Epoch 39: 2.393657063245773\n",
      "Epoch 40: 2.3936563417315484\n",
      "Epoch 41: 2.393655770123005\n",
      "Epoch 42: 2.393655317723751\n",
      "Epoch 43: 2.393654952645302\n",
      "Epoch 44: 2.393654681146145\n",
      "Epoch 45: 2.3936544665694237\n",
      "Epoch 46: 2.393654297888279\n",
      "Epoch 47: 2.3936541506648066\n",
      "Epoch 48: 2.3936540511250497\n",
      "Epoch 49: 2.393653973042965\n",
      "Epoch 50: 2.3936539003252983\n",
      "Epoch 51: 2.3936538460850714\n",
      "Epoch 52: 2.3936537888646128\n",
      "Epoch 53: 2.393653751015663\n",
      "Epoch 54: 2.393653719425201\n",
      "Epoch 55: 2.3936536931991577\n",
      "Epoch 56: 2.3936536690592765\n",
      "Epoch 57: 2.3936536532640456\n",
      "Epoch 58: 2.3936536401510238\n",
      "Epoch 59: 2.393653625547886\n",
      "Epoch 60: 2.39365361481905\n",
      "Epoch 61: 2.3936536061763762\n",
      "Epoch 62: 2.393653602898121\n",
      "Epoch 63: 2.3936535972356796\n",
      "Epoch 64: 2.393653593659401\n",
      "Epoch 65: 2.3936535894870756\n",
      "Epoch 66: 2.393653588294983\n",
      "Epoch 67: 2.393653584420681\n",
      "Epoch 68: 2.3936535823345184\n",
      "Epoch 69: 2.393653577566147\n",
      "Epoch 70: 2.3936535757780075\n",
      "Epoch 71: 2.393653573393822\n",
      "Epoch 72: 2.3936535719037058\n",
      "Epoch 73: 2.3936535704135893\n",
      "Epoch 74: 2.39365356951952\n",
      "Epoch 75: 2.3936535686254503\n",
      "Epoch 76: 2.393653567433357\n",
      "Epoch 77: 2.393653567135334\n",
      "Epoch 78: 2.393653566837311\n",
      "Epoch 79: 2.393653566241264\n",
      "Epoch 80: 2.3936535650491715\n",
      "Epoch 81: 2.3936535650491715\n",
      "Epoch 82: 2.3936535650491715\n",
      "Epoch 83: 2.3936535650491715\n",
      "Epoch 84: 2.3936535650491715\n",
      "Epoch 85: 2.3936535650491715\n",
      "Epoch 86: 2.3936535650491715\n",
      "Epoch 87: 2.3936535650491715\n",
      "Epoch 88: 2.3936535650491715\n",
      "Epoch 89: 2.3936535650491715\n",
      "Epoch 90: 2.3936535650491715\n",
      "Epoch 91: 2.3936535650491715\n",
      "Epoch 92: 2.3936535650491715\n",
      "Epoch 93: 2.3936535650491715\n",
      "Epoch 94: 2.3936535650491715\n",
      "Epoch 95: 2.3936535650491715\n",
      "Epoch 96: 2.3936535650491715\n",
      "Epoch 97: 2.3936535650491715\n",
      "Epoch 98: 2.3936535650491715\n",
      "Epoch 99: 2.3936535650491715\n",
      "  49/500\r"
     ]
    }
   ],
   "source": [
    "train(dPP500,\n",
    "      model,\n",
    "      optimizer,\n",
    "      loss,\n",
    "      writer,\n",
    "      n_epochs=(20, 100),\n",
    "      norm=255.0,\n",
    "      dice=True)"
   ]
  },
  {
   "cell_type": "code",
   "execution_count": 31,
   "metadata": {},
   "outputs": [
    {
     "data": {
      "image/png": "[encoded data removed]",
      "text/plain": [
       "<Figure size 2000x1000 with 6 Axes>"
      ]
     },
     "metadata": {},
     "output_type": "display_data"
    }
   ],
   "source": [
    "show_results(model, dPP500.val, 4, height=300, width=300)"
   ]
  },
  {
   "cell_type": "markdown",
   "metadata": {},
   "source": [
    "### Exp - PP500, LSTM Cell"
   ]
  },
  {
   "cell_type": "code",
   "execution_count": 33,
   "metadata": {},
   "outputs": [
    {
     "data": {
      "text/plain": [
       "2096"
      ]
     },
     "execution_count": 33,
     "metadata": {},
     "output_type": "execute_result"
    }
   ],
   "source": [
    "model = RLSTMCell(3, 300, 300).to(\"cuda\")\n",
    "optimizer = torch.optim.Adam(model.parameters(), lr=1e-5)\n",
    "loss = torch.nn.BCEWithLogitsLoss(pos_weight=torch.tensor(4.).cuda())\n",
    "writer = SummaryWriter(f\"./runs/PP500/RLSSTM_1\", comment=\"Lr_1e-5, BCE=4., deeper\")\n",
    "n_params(model)"
   ]
  },
  {
   "cell_type": "code",
   "execution_count": 36,
   "metadata": {},
   "outputs": [
    {
     "name": "stdout",
     "output_type": "stream",
     "text": [
      "Epoch 20: 1.2921749085187912\n",
      "Epoch 21: 1.279329631626606\n",
      "Epoch 22: 1.2670907312631607\n",
      "Epoch 23: 1.2556497110426426\n",
      "Epoch 24: 1.2448167821764946\n",
      "Epoch 25: 1.234610108435154\n",
      "Epoch 26: 1.2248501327633858\n",
      "Epoch 27: 1.2152907918393612\n",
      "Epoch 28: 1.2065621073544026\n",
      "Epoch 29: 1.198028425425291\n",
      "Epoch 30: 1.189289794266224\n",
      "Epoch 31: 1.1811091877520083\n",
      "Epoch 32: 1.1733041717112065\n",
      "Epoch 33: 1.1659489931166171\n",
      "Epoch 34: 1.1589627465605736\n",
      "Epoch 35: 1.152561944425106\n",
      "Epoch 36: 1.1468489199876786\n",
      "Epoch 37: 1.1417249640822411\n",
      "Epoch 38: 1.1369614613056183\n",
      "Epoch 39: 1.132418892979622\n",
      "Epoch 40: 1.1283044986426831\n",
      "Epoch 41: 1.1246165238320827\n",
      "Epoch 42: 1.1212534010410309\n",
      "Epoch 43: 1.1182077305018903\n",
      "Epoch 44: 1.1153958690166474\n",
      "Epoch 45: 1.1128673043847084\n",
      "Epoch 46: 1.1105755564570428\n",
      "Epoch 47: 1.1085090903937818\n",
      "Epoch 48: 1.1066280090808869\n",
      "Epoch 49: 1.1049526451528073\n",
      "Epoch 50: 1.1034969580173493\n",
      "Epoch 51: 1.1021952514350415\n",
      "Epoch 52: 1.1009967787563801\n",
      "Epoch 53: 1.0998894725739956\n",
      "Epoch 54: 1.098905017375946\n",
      "Epoch 55: 1.098022605627775\n",
      "Epoch 56: 1.097234824001789\n",
      "Epoch 57: 1.0965284822881223\n",
      "Epoch 58: 1.095894537270069\n",
      "Epoch 59: 1.0953202359378338\n",
      "Epoch 60: 1.0948040427267551\n",
      "Epoch 61: 1.0943335075676441\n",
      "Epoch 62: 1.0939011044800282\n",
      "Epoch 63: 1.0935102345049381\n",
      "Epoch 64: 1.0931565199792386\n",
      "Epoch 65: 1.092827551662922\n",
      "Epoch 66: 1.0925371378660202\n",
      "Epoch 67: 1.0922719421982765\n",
      "Epoch 68: 1.0920312535762786\n",
      "Epoch 69: 1.0918177872896195\n",
      "Epoch 70: 1.0916223978996278\n",
      "Epoch 71: 1.0914435796439648\n",
      "Epoch 72: 1.0912810204923153\n",
      "Epoch 73: 1.0911335185170175\n",
      "Epoch 74: 1.0909993562102318\n",
      "Epoch 75: 1.0908771063387395\n",
      "Epoch 76: 1.0907657194137572\n",
      "Epoch 77: 1.0906641010940075\n",
      "Epoch 78: 1.090571342855692\n",
      "Epoch 79: 1.0904864756762982\n",
      "Epoch 80: 1.0904090712964534\n",
      "Epoch 81: 1.0903372856974602\n",
      "Epoch 82: 1.0902715168893338\n",
      "Epoch 83: 1.0902116991579534\n",
      "Epoch 84: 1.0901569786667824\n",
      "Epoch 85: 1.0901067163050175\n",
      "Epoch 86: 1.0900605989992618\n",
      "Epoch 87: 1.0900183238089085\n",
      "Epoch 88: 1.0899796676635742\n",
      "Epoch 89: 1.089944260120392\n",
      "Epoch 90: 1.0899118587374688\n",
      "Epoch 91: 1.089882146716118\n",
      "Epoch 92: 1.0898548574745655\n",
      "Epoch 93: 1.0898298174142838\n",
      "Epoch 94: 1.0898068533837795\n",
      "Epoch 95: 1.0897857339680195\n",
      "Epoch 96: 1.089766287356615\n",
      "Epoch 97: 1.089748425334692\n",
      "Epoch 98: 1.0897318518161774\n",
      "Epoch 99: 1.0897166454792022\n",
      "  49/500\r"
     ]
    }
   ],
   "source": [
    "train(dPP500,\n",
    "      model,\n",
    "      optimizer,\n",
    "      loss,\n",
    "      writer,\n",
    "      n_epochs=(20,100),\n",
    "      norm=255.0,\n",
    "      dice=True)"
   ]
  },
  {
   "cell_type": "code",
   "execution_count": 37,
   "metadata": {},
   "outputs": [
    {
     "data": {
      "image/png": "[encoded data removed]",
      "text/plain": [
       "<Figure size 2000x1000 with 6 Axes>"
      ]
     },
     "metadata": {},
     "output_type": "display_data"
    }
   ],
   "source": [
    "show_results(model, dPP500.val, 4, height=300, width=300)"
   ]
  }
 ],
 "metadata": {
  "kernelspec": {
   "display_name": "vit",
   "language": "python",
   "name": "python3"
  },
  "language_info": {
   "codemirror_mode": {
    "name": "ipython",
    "version": 3
   },
   "file_extension": ".py",
   "mimetype": "text/x-python",
   "name": "python",
   "nbconvert_exporter": "python",
   "pygments_lexer": "ipython3",
   "version": "3.10.9"
  }
 },
 "nbformat": 4,
 "nbformat_minor": 2
}
